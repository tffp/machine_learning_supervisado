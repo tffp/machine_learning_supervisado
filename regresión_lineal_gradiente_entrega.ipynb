{
 "cells": [
  {
   "cell_type": "code",
   "execution_count": 31,
   "metadata": {},
   "outputs": [],
   "source": [
    "import random\n",
    "import pandas as pd\n",
    "import numpy as np\n",
    "import matplotlib.pyplot as plt\n",
    "import statistics as stats"
   ]
  },
  {
   "cell_type": "markdown",
   "metadata": {},
   "source": [
    "Podríamos orientarnos con un gráfico para la obtención de $m_0$ $b_0$\n",
    "\n",
    "Denominamos en el código:\n",
    "- X,Y : nuestros datos dados\n",
    "- y : nuestra funcion de regresión"
   ]
  },
  {
   "cell_type": "code",
   "execution_count": 39,
   "metadata": {},
   "outputs": [],
   "source": [
    "# para obtener nuestro gráfico orientativo con cualquiera que sean los datos\n",
    "def grafico_inicial(X,Y):\n",
    "    X_min = min(X) -1\n",
    "    X_max = max(X)+1\n",
    "    Y_min = min(Y) -1\n",
    "    Y_max = max(Y)+1\n",
    "    plt.axis([X_min, X_max, Y_min, Y_max])\n",
    "    plt.plot(X,Y,'bo')\n",
    "    return plt.show()"
   ]
  },
  {
   "cell_type": "code",
   "execution_count": 71,
   "metadata": {},
   "outputs": [],
   "source": [
    "# Basandome en lo que hablamos en clase intente elaborar una función así, \n",
    "def reg_lin(X,Y,m0,b0,l,ite, crit_parada):\n",
    "    b = b0\n",
    "    m = m0\n",
    "    n = len(X)\n",
    "    Error = 0\n",
    "    for i in range(ite):\n",
    "        y = m*X + b\n",
    "        derv_m = np.sum(2*(y - Y)*X)\n",
    "        derv_b = np.sum(2*(y - Y))\n",
    "        if (derv_m == 0) | (derv_b == 0) | (Error < crit_parada):\n",
    "            break\n",
    "        else:\n",
    "            m = m - l*derv_m\n",
    "            b = b - l*derv_b\n",
    "            Error =  np.sum(((m*X+b)-Y)**2)\n",
    "    \n",
    "    return m,b,i,Error,derv_m,derv_b\n",
    "# como no tenia claro que funcionara bien, le pido que me devuelva todos estos datos \n",
    "# para seguirle el rastro y ver donde se atasca"
   ]
  },
  {
   "cell_type": "code",
   "execution_count": null,
   "metadata": {},
   "outputs": [],
   "source": [
    "def error(y,Y, b,m):\n",
    "    return np.sum((y-Y)**2)\n",
    "\n",
    "def der_b(y,Y,b,m):\n",
    "    return np.sum(2*(y - Y))\n",
    "\n",
    "def der_m(y,Y,b,m):\n",
    "    return np.sum(2*(y - Y)*X)\n",
    "\n",
    "def update(param,devparam,l):\n",
    "    return param- l*devparam"
   ]
  },
  {
   "cell_type": "code",
   "execution_count": null,
   "metadata": {},
   "outputs": [],
   "source": [
    "# Basandome en lo que hablamos en clase esta vez con las funciones auxiliares\n",
    "def reg_lin2(X,Y,m0,b0,l,ite, crit_parada):\n",
    "    b = b0\n",
    "    m = m0\n",
    "    Error = 0\n",
    "    for i in range(ite):\n",
    "        y = m*X + b\n",
    "        derv_m = der_m(y,Y,b,m)\n",
    "        derv_b = der_b(y,Y,b,m)\n",
    "        if (derv_m == 0) | (derv_b == 0) | (Error < crit_parada):\n",
    "            break\n",
    "        else:\n",
    "            m = update(m,derv_m,l)\n",
    "            b = update(b,derv_b,l)\n",
    "            Error = error(y,Y,b,m)\n",
    "            \n",
    "    \n",
    "    return m,b,i,Error,derv_m,derv_b\n",
    "# como no tenia claro que funcionara bien, le pido que me devuelva todos estos datos \n",
    "# para seguirle el rastro y ver donde se atasca"
   ]
  },
  {
   "cell_type": "markdown",
   "metadata": {},
   "source": [
    "Usando los datos dados:"
   ]
  },
  {
   "cell_type": "code",
   "execution_count": 58,
   "metadata": {},
   "outputs": [],
   "source": [
    "numberOfSamples = 30\n",
    "\n",
    "mu, sigma = 0, 1 # mean and standard deviation\n",
    "noise = np.random.normal(mu, sigma, numberOfSamples)\n",
    "\n",
    "X = np.random.rand(numberOfSamples)*5\n",
    "Y = 2*X + 1 + noise"
   ]
  },
  {
   "cell_type": "code",
   "execution_count": 59,
   "metadata": {},
   "outputs": [
    {
     "data": {
      "image/png": "[encoded data removed]",
      "text/plain": [
       "<Figure size 432x288 with 1 Axes>"
      ]
     },
     "metadata": {
      "needs_background": "light"
     },
     "output_type": "display_data"
    }
   ],
   "source": [
    "grafico_inicial(X,Y)"
   ]
  },
  {
   "cell_type": "markdown",
   "metadata": {},
   "source": [
    "Si inicializamos con:\n",
    "- $b_0$ = $\\sum y_i$/n\n",
    "- $m_0$ = $\\sum x_i$/n\n",
    "\n",
    "Tuve problemas dandole un valor al criterio de parada, aunque le diera un valor muy pequeño me daba algún problema. Por lo que vi que me daba buenos resultados al poner el criterio de parada en cero, lo cual le quita todo el sentido al criterio de parada, pero no encontre otra manera."
   ]
  },
  {
   "cell_type": "code",
   "execution_count": 76,
   "metadata": {},
   "outputs": [
    {
     "data": {
      "text/plain": [
       "(2.2491752787874586,\n",
       " 0.4961809910836854,\n",
       " 9999,\n",
       " 24.00748382004923,\n",
       " -1.7075230118734908e-13,\n",
       " 2.7533531010703882e-14)"
      ]
     },
     "execution_count": 76,
     "metadata": {},
     "output_type": "execute_result"
    }
   ],
   "source": [
    "r = reg_lin(X,Y,stats.mean(X),stats.mean(Y),0.001,10000,0)\n",
    "r"
   ]
  },
  {
   "cell_type": "code",
   "execution_count": 77,
   "metadata": {},
   "outputs": [
    {
     "data": {
      "image/png": "[encoded data removed]",
      "text/plain": [
       "<Figure size 432x288 with 1 Axes>"
      ]
     },
     "metadata": {
      "needs_background": "light"
     },
     "output_type": "display_data"
    }
   ],
   "source": [
    "m = r[0]\n",
    "b = r[1]\n",
    "y = m*X + b \n",
    "fig, ax = plt.subplots()\n",
    "ax.plot(X, y, color='r')\n",
    "ax.scatter(X, Y, color='b')\n",
    "plt.show()"
   ]
  },
  {
   "cell_type": "markdown",
   "metadata": {},
   "source": [
    "Al compararlo con la función prefedinida con sklearn"
   ]
  },
  {
   "cell_type": "code",
   "execution_count": 55,
   "metadata": {},
   "outputs": [],
   "source": [
    "from sklearn import linear_model\n",
    "lm = linear_model.LinearRegression()\n",
    "model = lm.fit(X.reshape(-1, 1),Y.reshape(-1, 1))\n",
    "y_pred = lm.predict(X.reshape(-1,1))"
   ]
  },
  {
   "cell_type": "code",
   "execution_count": 56,
   "metadata": {},
   "outputs": [
    {
     "data": {
      "image/png": "[encoded data removed]",
      "text/plain": [
       "<Figure size 432x288 with 1 Axes>"
      ]
     },
     "metadata": {
      "needs_background": "light"
     },
     "output_type": "display_data"
    }
   ],
   "source": [
    "fig, ax = plt.subplots()\n",
    "ax.plot(X, y_pred)\n",
    "ax.scatter(X, Y, color='red')\n",
    "plt.show()"
   ]
  },
  {
   "cell_type": "markdown",
   "metadata": {},
   "source": [
    "También he ojeado este código\n",
    "Que usa un doble bucle for, que supongo menos eficiente pero como mi codigo con un único bucle me daba problemas  con alguna cosa, lo he probado.\n",
    "\n",
    "Y he observado dos cosas, si el número de iteraciones es tan alto como 100000 tarda demasiado en ejecutar, pero son realmente necesarias muchas iteraciones para que el resultado se acerque algo a lo que queremos.\n",
    "\n",
    "https://github.com/albgarse/Artificial-Intelligence/blob/master/Machine%20Learning/Regresion%20lineal.ipynb"
   ]
  },
  {
   "cell_type": "markdown",
   "metadata": {},
   "source": [
    "Primero definimos el error:"
   ]
  },
  {
   "cell_type": "code",
   "execution_count": 2,
   "metadata": {},
   "outputs": [],
   "source": [
    "def error(x, y, b, m):\n",
    "    n = len(x)\n",
    "    Error = 0.0\n",
    "    for i in range(n):\n",
    "        hipotesis = b+m*x[i]\n",
    "        Error +=  (y[i] - hipotesis) ** 2\n",
    "    return Error / (2*n)"
   ]
  },
  {
   "cell_type": "markdown",
   "metadata": {},
   "source": [
    "Luego la función que nos itera basandose en el método del gradiente descendiente:\n",
    "\n",
    "- Le damos nombre alpha a $\\lambda$"
   ]
  },
  {
   "cell_type": "code",
   "execution_count": 3,
   "metadata": {},
   "outputs": [],
   "source": [
    "def descenso_gradiente(x, y, b, m, alpha, iters):\n",
    "    n = len(x)\n",
    "    hist_error = []\n",
    "    for j in range(ite):\n",
    "        b_deriv = 0\n",
    "        m_deriv = 0\n",
    "        for i in range(n):\n",
    "            hipotesis = b+m*x[i]\n",
    "            b_deriv += hipotesis - y[i]\n",
    "            m_deriv += (hipotesis - y[i]) * x[i]\n",
    "            hist_error.append(error(x, y, b, m))\n",
    "        b -= (b_deriv / n) * alpha\n",
    "        m -= (m_deriv / n) * alpha\n",
    "        \n",
    "    return a, b, hist_error"
   ]
  },
  {
   "cell_type": "markdown",
   "metadata": {},
   "source": [
    "Generamos datos aleatorios para probar el método "
   ]
  },
  {
   "cell_type": "code",
   "execution_count": 1,
   "metadata": {
    "scrolled": true
   },
   "outputs": [
    {
     "data": {
      "text/plain": [
       "<matplotlib.collections.PathCollection at 0x7f7b736cd640>"
      ]
     },
     "execution_count": 1,
     "metadata": {},
     "output_type": "execute_result"
    },
    {
     "data": {
      "image/png": "[encoded data removed]",
      "text/plain": [
       "<Figure size 432x288 with 1 Axes>"
      ]
     },
     "metadata": {
      "needs_background": "light"
     },
     "output_type": "display_data"
    }
   ],
   "source": [
    "def gen_data(n, bias, varianza):\n",
    "    x = []\n",
    "    y = []\n",
    "    for i in range(0, n):\n",
    "        x.append(i)\n",
    "        y.append((i + bias) + random.uniform(0, 1) * varianza)\n",
    "    return x, y\n",
    " \n",
    "x,y = gen_data(100, 25, 50)\n",
    "plt.scatter(x, y)"
   ]
  },
  {
   "cell_type": "code",
   "execution_count": 26,
   "metadata": {},
   "outputs": [
    {
     "data": {
      "text/plain": [
       "(46.07923628088942, 1.0648058605672204)"
      ]
     },
     "execution_count": 26,
     "metadata": {},
     "output_type": "execute_result"
    }
   ],
   "source": [
    "b=1\n",
    "m=1\n",
    "alpha = 0.0001\n",
    "iters = 100000\n",
    "b,m, hist_error = descenso_gradiente(x, y, b, m, alpha, iters)\n",
    "b,m "
   ]
  },
  {
   "cell_type": "code",
   "execution_count": 27,
   "metadata": {},
   "outputs": [
    {
     "data": {
      "text/plain": [
       "[<matplotlib.lines.Line2D at 0x7f7b60f08c40>]"
      ]
     },
     "execution_count": 27,
     "metadata": {},
     "output_type": "execute_result"
    },
    {
     "data": {
      "image/png": "[encoded data removed]",
      "text/plain": [
       "<Figure size 432x288 with 1 Axes>"
      ]
     },
     "metadata": {
      "needs_background": "light"
     },
     "output_type": "display_data"
    }
   ],
   "source": [
    "plt.scatter(x, y)\n",
    "pred_x = [0, max(x)]\n",
    "pred_y = [b+m*0, b+m*max(x)]\n",
    "plt.title('100000 Iteraciones')\n",
    "plt.axis([0, 100, 0, 200]) \n",
    "plt.plot(pred_x, pred_y, \"r\")"
   ]
  },
  {
   "cell_type": "markdown",
   "metadata": {},
   "source": [
    "Esto lo usa en el código de github y me ha parecido interesante, por el tema de ver como se comporta el error.\n"
   ]
  },
  {
   "cell_type": "code",
   "execution_count": 29,
   "metadata": {},
   "outputs": [
    {
     "data": {
      "text/plain": [
       "[<matplotlib.lines.Line2D at 0x7f7b5e2c1fd0>]"
      ]
     },
     "execution_count": 29,
     "metadata": {},
     "output_type": "execute_result"
    },
    {
     "data": {
      "image/png": "[encoded data removed]",
      "text/plain": [
       "<Figure size 432x288 with 1 Axes>"
      ]
     },
     "metadata": {
      "needs_background": "light"
     },
     "output_type": "display_data"
    }
   ],
   "source": [
    "x_base = range(len(hist_error))\n",
    "plt.plot(x_base[1000:], hist_error[1000:])"
   ]
  },
  {
   "cell_type": "markdown",
   "metadata": {},
   "source": [
    "Ahora lo probaremos con los datos de ejemplo del notebook de clase:"
   ]
  },
  {
   "cell_type": "code",
   "execution_count": 32,
   "metadata": {},
   "outputs": [
    {
     "data": {
      "image/png": "[encoded data removed]",
      "text/plain": [
       "<Figure size 432x288 with 1 Axes>"
      ]
     },
     "metadata": {
      "needs_background": "light"
     },
     "output_type": "display_data"
    }
   ],
   "source": [
    "numberOfSamples = 30\n",
    "\n",
    "mu, sigma = 0, 1 # mean and standard deviation\n",
    "noise = np.random.normal(mu, sigma, numberOfSamples)\n",
    "\n",
    "X = np.random.rand(numberOfSamples)*5\n",
    "Y = 2*X + 1 + noise\n",
    " \n",
    "plt.axis([0, 5, 0, 12])\n",
    "plt.plot(X,Y,'bo')\n",
    "plt.show()"
   ]
  },
  {
   "cell_type": "code",
   "execution_count": 34,
   "metadata": {},
   "outputs": [
    {
     "data": {
      "text/plain": [
       "(1.645360541056176, 1.7679564988017806)"
      ]
     },
     "execution_count": 34,
     "metadata": {},
     "output_type": "execute_result"
    }
   ],
   "source": [
    "b=1\n",
    "m=1\n",
    "alpha = 0.0001\n",
    "iters = 50000\n",
    "b,m, hist_error = descenso_gradiente(X, Y, b, m, alpha, iters)\n",
    "b,m "
   ]
  },
  {
   "cell_type": "code",
   "execution_count": 38,
   "metadata": {},
   "outputs": [
    {
     "data": {
      "text/plain": [
       "[<matplotlib.lines.Line2D at 0x7f7b091ce130>]"
      ]
     },
     "execution_count": 38,
     "metadata": {},
     "output_type": "execute_result"
    },
    {
     "data": {
      "image/png": "[encoded data removed]",
      "text/plain": [
       "<Figure size 432x288 with 1 Axes>"
      ]
     },
     "metadata": {
      "needs_background": "light"
     },
     "output_type": "display_data"
    }
   ],
   "source": [
    "plt.scatter(X, Y)\n",
    "pred_x = [0, max(X)]\n",
    "pred_y = [b+m*0, b+m*max(X)]\n",
    "plt.title('50000 Iteraciones')\n",
    "plt.axis([-1, 6, 0, 15]) \n",
    "plt.plot(pred_x, pred_y, \"r\")"
   ]
  },
  {
   "cell_type": "code",
   "execution_count": null,
   "metadata": {},
   "outputs": [],
   "source": []
  }
 ],
 "metadata": {
  "kernelspec": {
   "display_name": "Python 3",
   "language": "python",
   "name": "python3"
  },
  "language_info": {
   "codemirror_mode": {
    "name": "ipython",
    "version": 3
   },
   "file_extension": ".py",
   "mimetype": "text/x-python",
   "name": "python",
   "nbconvert_exporter": "python",
   "pygments_lexer": "ipython3",
   "version": "3.8.5"
  }
 },
 "nbformat": 4,
 "nbformat_minor": 4
}
